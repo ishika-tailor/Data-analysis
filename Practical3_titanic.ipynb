{
 "cells": [
  {
   "cell_type": "markdown",
   "metadata": {},
   "source": [
    "# 180280116118 ISHIKA TAILOR"
   ]
  },
  {
   "cell_type": "markdown",
   "metadata": {},
   "source": [
    "Practical: 3 Titanic dataset"
   ]
  },
  {
   "cell_type": "markdown",
   "metadata": {},
   "source": [
    "In this practical, we will perform Entropy of each column,Information gain, dataset attribute ranking"
   ]
  },
  {
   "cell_type": "code",
   "execution_count": 9,
   "metadata": {},
   "outputs": [],
   "source": [
    "import pandas as pd\n",
    "import seaborn as sns\n",
    "import math\n",
    "import numpy as np"
   ]
  },
  {
   "cell_type": "code",
   "execution_count": 83,
   "metadata": {},
   "outputs": [
    {
     "data": {
      "text/html": [
       "<div>\n",
       "<style scoped>\n",
       "    .dataframe tbody tr th:only-of-type {\n",
       "        vertical-align: middle;\n",
       "    }\n",
       "\n",
       "    .dataframe tbody tr th {\n",
       "        vertical-align: top;\n",
       "    }\n",
       "\n",
       "    .dataframe thead th {\n",
       "        text-align: right;\n",
       "    }\n",
       "</style>\n",
       "<table border=\"1\" class=\"dataframe\">\n",
       "  <thead>\n",
       "    <tr style=\"text-align: right;\">\n",
       "      <th></th>\n",
       "      <th>index</th>\n",
       "      <th>passenger</th>\n",
       "      <th>Pclass</th>\n",
       "      <th>name</th>\n",
       "      <th>sex</th>\n",
       "      <th>age</th>\n",
       "      <th>sibsp</th>\n",
       "      <th>parch</th>\n",
       "      <th>ticket</th>\n",
       "      <th>fare</th>\n",
       "      <th>cabin</th>\n",
       "      <th>emb</th>\n",
       "    </tr>\n",
       "  </thead>\n",
       "  <tbody>\n",
       "    <tr>\n",
       "      <th>0</th>\n",
       "      <td>1</td>\n",
       "      <td>Perished</td>\n",
       "      <td>3</td>\n",
       "      <td>Braund, Mr. Owen Harris</td>\n",
       "      <td>male</td>\n",
       "      <td>19 - 40</td>\n",
       "      <td>1</td>\n",
       "      <td>0</td>\n",
       "      <td>A/5 21171</td>\n",
       "      <td>7.2500</td>\n",
       "      <td>NaN</td>\n",
       "      <td>S</td>\n",
       "    </tr>\n",
       "    <tr>\n",
       "      <th>1</th>\n",
       "      <td>2</td>\n",
       "      <td>Survived</td>\n",
       "      <td>1</td>\n",
       "      <td>Cumings, Mrs. John Bradley (Florence Briggs Th...</td>\n",
       "      <td>female</td>\n",
       "      <td>19 - 40</td>\n",
       "      <td>1</td>\n",
       "      <td>0</td>\n",
       "      <td>PC 17599</td>\n",
       "      <td>71.2833</td>\n",
       "      <td>C85</td>\n",
       "      <td>C</td>\n",
       "    </tr>\n",
       "    <tr>\n",
       "      <th>2</th>\n",
       "      <td>3</td>\n",
       "      <td>Survived</td>\n",
       "      <td>3</td>\n",
       "      <td>Heikkinen, Miss. Laina</td>\n",
       "      <td>female</td>\n",
       "      <td>19 - 40</td>\n",
       "      <td>0</td>\n",
       "      <td>0</td>\n",
       "      <td>STON/O2. 3101282</td>\n",
       "      <td>7.9250</td>\n",
       "      <td>NaN</td>\n",
       "      <td>S</td>\n",
       "    </tr>\n",
       "    <tr>\n",
       "      <th>3</th>\n",
       "      <td>4</td>\n",
       "      <td>Survived</td>\n",
       "      <td>1</td>\n",
       "      <td>Futrelle, Mrs. Jacques Heath (Lily May Peel)</td>\n",
       "      <td>female</td>\n",
       "      <td>19 - 40</td>\n",
       "      <td>1</td>\n",
       "      <td>0</td>\n",
       "      <td>113803</td>\n",
       "      <td>53.1000</td>\n",
       "      <td>C123</td>\n",
       "      <td>S</td>\n",
       "    </tr>\n",
       "    <tr>\n",
       "      <th>4</th>\n",
       "      <td>5</td>\n",
       "      <td>Perished</td>\n",
       "      <td>3</td>\n",
       "      <td>Allen, Mr. William Henry</td>\n",
       "      <td>male</td>\n",
       "      <td>19 - 40</td>\n",
       "      <td>0</td>\n",
       "      <td>0</td>\n",
       "      <td>373450</td>\n",
       "      <td>8.0500</td>\n",
       "      <td>NaN</td>\n",
       "      <td>S</td>\n",
       "    </tr>\n",
       "  </tbody>\n",
       "</table>\n",
       "</div>"
      ],
      "text/plain": [
       "   index passenger  Pclass                                               name  \\\n",
       "0      1  Perished       3                            Braund, Mr. Owen Harris   \n",
       "1      2  Survived       1  Cumings, Mrs. John Bradley (Florence Briggs Th...   \n",
       "2      3  Survived       3                             Heikkinen, Miss. Laina   \n",
       "3      4  Survived       1       Futrelle, Mrs. Jacques Heath (Lily May Peel)   \n",
       "4      5  Perished       3                           Allen, Mr. William Henry   \n",
       "\n",
       "      sex      age  sibsp  parch            ticket     fare cabin emb  \n",
       "0    male  19 - 40      1      0         A/5 21171   7.2500   NaN   S  \n",
       "1  female  19 - 40      1      0          PC 17599  71.2833   C85   C  \n",
       "2  female  19 - 40      0      0  STON/O2. 3101282   7.9250   NaN   S  \n",
       "3  female  19 - 40      1      0            113803  53.1000  C123   S  \n",
       "4    male  19 - 40      0      0            373450   8.0500   NaN   S  "
      ]
     },
     "execution_count": 83,
     "metadata": {},
     "output_type": "execute_result"
    }
   ],
   "source": [
    "address = 'titanic1.csv'\n",
    "data = pd.read_csv(address)\n",
    "data.columns=['index','passenger','Pclass','name','sex','age','sibsp','parch','ticket','fare','cabin','emb']\n",
    "data.head()"
   ]
  },
  {
   "cell_type": "code",
   "execution_count": 86,
   "metadata": {},
   "outputs": [
    {
     "data": {
      "text/plain": [
       "1046"
      ]
     },
     "execution_count": 86,
     "metadata": {},
     "output_type": "execute_result"
    }
   ],
   "source": [
    "len(data)"
   ]
  },
  {
   "cell_type": "code",
   "execution_count": 87,
   "metadata": {},
   "outputs": [
    {
     "data": {
      "text/plain": [
       "index          0\n",
       "passenger      0\n",
       "Pclass         0\n",
       "name           0\n",
       "sex            0\n",
       "age            0\n",
       "sibsp          0\n",
       "parch          0\n",
       "ticket         0\n",
       "fare           1\n",
       "cabin        774\n",
       "emb            2\n",
       "dtype: int64"
      ]
     },
     "execution_count": 87,
     "metadata": {},
     "output_type": "execute_result"
    }
   ],
   "source": [
    "data.isna().sum()"
   ]
  },
  {
   "cell_type": "code",
   "execution_count": 88,
   "metadata": {},
   "outputs": [
    {
     "data": {
      "text/plain": [
       "index        0\n",
       "passenger    0\n",
       "Pclass       0\n",
       "name         0\n",
       "sex          0\n",
       "age          0\n",
       "sibsp        0\n",
       "parch        0\n",
       "ticket       0\n",
       "fare         0\n",
       "cabin        0\n",
       "emb          0\n",
       "dtype: int64"
      ]
     },
     "execution_count": 88,
     "metadata": {},
     "output_type": "execute_result"
    }
   ],
   "source": [
    "#Replace NA Values with Median in Age Column\n",
    "#Replace NA Values in Cabin with 'XXX'\n",
    "#Replace NA Values in Embarked with Most Frequent Values \n",
    "data['fare']=data['fare'].fillna(data['fare'].median())\n",
    "data['cabin']=data['cabin'].fillna('XXX')\n",
    "data['emb']=data['emb'].fillna(data['emb'].mode()[0])\n",
    "data.isna().sum()"
   ]
  },
  {
   "cell_type": "code",
   "execution_count": 89,
   "metadata": {},
   "outputs": [
    {
     "data": {
      "text/plain": [
       "1046"
      ]
     },
     "execution_count": 89,
     "metadata": {},
     "output_type": "execute_result"
    }
   ],
   "source": [
    "len(data)"
   ]
  },
  {
   "cell_type": "code",
   "execution_count": 90,
   "metadata": {},
   "outputs": [
    {
     "data": {
      "text/plain": [
       "<matplotlib.axes._subplots.AxesSubplot at 0x1a19595ed0>"
      ]
     },
     "execution_count": 90,
     "metadata": {},
     "output_type": "execute_result"
    },
    {
     "data": {
      "image/png": "[encoded data removed]",
      "text/plain": [
       "<Figure size 432x288 with 1 Axes>"
      ]
     },
     "metadata": {
      "needs_background": "light"
     },
     "output_type": "display_data"
    }
   ],
   "source": [
    "sns.countplot(x=\"sex\",hue=\"sibsp\", data=data)\n",
    "#sns.countplot(x=\"Sex\", data=data)\n",
    "#sns.countplot(x=\"Age\",hue=\"Sex\",data=data)"
   ]
  },
  {
   "cell_type": "code",
   "execution_count": 91,
   "metadata": {},
   "outputs": [
    {
     "data": {
      "text/html": [
       "<div>\n",
       "<style scoped>\n",
       "    .dataframe tbody tr th:only-of-type {\n",
       "        vertical-align: middle;\n",
       "    }\n",
       "\n",
       "    .dataframe tbody tr th {\n",
       "        vertical-align: top;\n",
       "    }\n",
       "\n",
       "    .dataframe thead th {\n",
       "        text-align: right;\n",
       "    }\n",
       "</style>\n",
       "<table border=\"1\" class=\"dataframe\">\n",
       "  <thead>\n",
       "    <tr style=\"text-align: right;\">\n",
       "      <th></th>\n",
       "      <th>gender</th>\n",
       "    </tr>\n",
       "  </thead>\n",
       "  <tbody>\n",
       "    <tr>\n",
       "      <th>0</th>\n",
       "      <td>1</td>\n",
       "    </tr>\n",
       "    <tr>\n",
       "      <th>1</th>\n",
       "      <td>0</td>\n",
       "    </tr>\n",
       "    <tr>\n",
       "      <th>2</th>\n",
       "      <td>0</td>\n",
       "    </tr>\n",
       "    <tr>\n",
       "      <th>3</th>\n",
       "      <td>0</td>\n",
       "    </tr>\n",
       "    <tr>\n",
       "      <th>4</th>\n",
       "      <td>1</td>\n",
       "    </tr>\n",
       "  </tbody>\n",
       "</table>\n",
       "</div>"
      ],
      "text/plain": [
       "   gender\n",
       "0       1\n",
       "1       0\n",
       "2       0\n",
       "3       0\n",
       "4       1"
      ]
     },
     "execution_count": 91,
     "metadata": {},
     "output_type": "execute_result"
    }
   ],
   "source": [
    "#Add Dummy Column with survived=1, nonservived=0 \n",
    "df=(pd.get_dummies(data['passenger'],drop_first=True))\n",
    "#Add Dummy Column with Male=1, Female=0 \n",
    "df1=(pd.get_dummies(data['sex'],drop_first=True)).rename(columns={'male':'gender'})\n",
    "df1.head()"
   ]
  },
  {
   "cell_type": "code",
   "execution_count": 92,
   "metadata": {},
   "outputs": [
    {
     "data": {
      "text/html": [
       "<div>\n",
       "<style scoped>\n",
       "    .dataframe tbody tr th:only-of-type {\n",
       "        vertical-align: middle;\n",
       "    }\n",
       "\n",
       "    .dataframe tbody tr th {\n",
       "        vertical-align: top;\n",
       "    }\n",
       "\n",
       "    .dataframe thead th {\n",
       "        text-align: right;\n",
       "    }\n",
       "</style>\n",
       "<table border=\"1\" class=\"dataframe\">\n",
       "  <thead>\n",
       "    <tr style=\"text-align: right;\">\n",
       "      <th></th>\n",
       "      <th>index</th>\n",
       "      <th>passenger</th>\n",
       "      <th>Pclass</th>\n",
       "      <th>name</th>\n",
       "      <th>sex</th>\n",
       "      <th>age</th>\n",
       "      <th>sibsp</th>\n",
       "      <th>parch</th>\n",
       "      <th>ticket</th>\n",
       "      <th>fare</th>\n",
       "      <th>cabin</th>\n",
       "      <th>emb</th>\n",
       "      <th>Survived</th>\n",
       "      <th>gender</th>\n",
       "    </tr>\n",
       "  </thead>\n",
       "  <tbody>\n",
       "    <tr>\n",
       "      <th>0</th>\n",
       "      <td>1</td>\n",
       "      <td>Perished</td>\n",
       "      <td>3</td>\n",
       "      <td>Braund, Mr. Owen Harris</td>\n",
       "      <td>male</td>\n",
       "      <td>19 - 40</td>\n",
       "      <td>1</td>\n",
       "      <td>0</td>\n",
       "      <td>A/5 21171</td>\n",
       "      <td>7.2500</td>\n",
       "      <td>XXX</td>\n",
       "      <td>S</td>\n",
       "      <td>0</td>\n",
       "      <td>1</td>\n",
       "    </tr>\n",
       "    <tr>\n",
       "      <th>1</th>\n",
       "      <td>2</td>\n",
       "      <td>Survived</td>\n",
       "      <td>1</td>\n",
       "      <td>Cumings, Mrs. John Bradley (Florence Briggs Th...</td>\n",
       "      <td>female</td>\n",
       "      <td>19 - 40</td>\n",
       "      <td>1</td>\n",
       "      <td>0</td>\n",
       "      <td>PC 17599</td>\n",
       "      <td>71.2833</td>\n",
       "      <td>C85</td>\n",
       "      <td>C</td>\n",
       "      <td>1</td>\n",
       "      <td>0</td>\n",
       "    </tr>\n",
       "    <tr>\n",
       "      <th>2</th>\n",
       "      <td>3</td>\n",
       "      <td>Survived</td>\n",
       "      <td>3</td>\n",
       "      <td>Heikkinen, Miss. Laina</td>\n",
       "      <td>female</td>\n",
       "      <td>19 - 40</td>\n",
       "      <td>0</td>\n",
       "      <td>0</td>\n",
       "      <td>STON/O2. 3101282</td>\n",
       "      <td>7.9250</td>\n",
       "      <td>XXX</td>\n",
       "      <td>S</td>\n",
       "      <td>1</td>\n",
       "      <td>0</td>\n",
       "    </tr>\n",
       "    <tr>\n",
       "      <th>3</th>\n",
       "      <td>4</td>\n",
       "      <td>Survived</td>\n",
       "      <td>1</td>\n",
       "      <td>Futrelle, Mrs. Jacques Heath (Lily May Peel)</td>\n",
       "      <td>female</td>\n",
       "      <td>19 - 40</td>\n",
       "      <td>1</td>\n",
       "      <td>0</td>\n",
       "      <td>113803</td>\n",
       "      <td>53.1000</td>\n",
       "      <td>C123</td>\n",
       "      <td>S</td>\n",
       "      <td>1</td>\n",
       "      <td>0</td>\n",
       "    </tr>\n",
       "    <tr>\n",
       "      <th>4</th>\n",
       "      <td>5</td>\n",
       "      <td>Perished</td>\n",
       "      <td>3</td>\n",
       "      <td>Allen, Mr. William Henry</td>\n",
       "      <td>male</td>\n",
       "      <td>19 - 40</td>\n",
       "      <td>0</td>\n",
       "      <td>0</td>\n",
       "      <td>373450</td>\n",
       "      <td>8.0500</td>\n",
       "      <td>XXX</td>\n",
       "      <td>S</td>\n",
       "      <td>0</td>\n",
       "      <td>1</td>\n",
       "    </tr>\n",
       "    <tr>\n",
       "      <th>...</th>\n",
       "      <td>...</td>\n",
       "      <td>...</td>\n",
       "      <td>...</td>\n",
       "      <td>...</td>\n",
       "      <td>...</td>\n",
       "      <td>...</td>\n",
       "      <td>...</td>\n",
       "      <td>...</td>\n",
       "      <td>...</td>\n",
       "      <td>...</td>\n",
       "      <td>...</td>\n",
       "      <td>...</td>\n",
       "      <td>...</td>\n",
       "      <td>...</td>\n",
       "    </tr>\n",
       "    <tr>\n",
       "      <th>1041</th>\n",
       "      <td>1301</td>\n",
       "      <td>Survived</td>\n",
       "      <td>3</td>\n",
       "      <td>Peacock, Miss. Treasteall</td>\n",
       "      <td>female</td>\n",
       "      <td>Under 18</td>\n",
       "      <td>1</td>\n",
       "      <td>1</td>\n",
       "      <td>SOTON/O.Q. 3101315</td>\n",
       "      <td>13.7750</td>\n",
       "      <td>XXX</td>\n",
       "      <td>S</td>\n",
       "      <td>1</td>\n",
       "      <td>0</td>\n",
       "    </tr>\n",
       "    <tr>\n",
       "      <th>1042</th>\n",
       "      <td>1303</td>\n",
       "      <td>Survived</td>\n",
       "      <td>1</td>\n",
       "      <td>Minahan, Mrs. William Edward (Lillian E Thorpe)</td>\n",
       "      <td>female</td>\n",
       "      <td>19 - 40</td>\n",
       "      <td>1</td>\n",
       "      <td>0</td>\n",
       "      <td>19928</td>\n",
       "      <td>90.0000</td>\n",
       "      <td>C78</td>\n",
       "      <td>Q</td>\n",
       "      <td>1</td>\n",
       "      <td>0</td>\n",
       "    </tr>\n",
       "    <tr>\n",
       "      <th>1043</th>\n",
       "      <td>1304</td>\n",
       "      <td>Survived</td>\n",
       "      <td>3</td>\n",
       "      <td>Henriksson, Miss. Jenny Lovisa</td>\n",
       "      <td>female</td>\n",
       "      <td>19 - 40</td>\n",
       "      <td>0</td>\n",
       "      <td>0</td>\n",
       "      <td>347086</td>\n",
       "      <td>7.7750</td>\n",
       "      <td>XXX</td>\n",
       "      <td>S</td>\n",
       "      <td>1</td>\n",
       "      <td>0</td>\n",
       "    </tr>\n",
       "    <tr>\n",
       "      <th>1044</th>\n",
       "      <td>1306</td>\n",
       "      <td>Survived</td>\n",
       "      <td>1</td>\n",
       "      <td>Oliva y Ocana, Dona. Fermina</td>\n",
       "      <td>female</td>\n",
       "      <td>19 - 40</td>\n",
       "      <td>0</td>\n",
       "      <td>0</td>\n",
       "      <td>PC 17758</td>\n",
       "      <td>108.9000</td>\n",
       "      <td>C105</td>\n",
       "      <td>C</td>\n",
       "      <td>1</td>\n",
       "      <td>0</td>\n",
       "    </tr>\n",
       "    <tr>\n",
       "      <th>1045</th>\n",
       "      <td>1307</td>\n",
       "      <td>Perished</td>\n",
       "      <td>3</td>\n",
       "      <td>Saether, Mr. Simon Sivertsen</td>\n",
       "      <td>male</td>\n",
       "      <td>19 - 40</td>\n",
       "      <td>0</td>\n",
       "      <td>0</td>\n",
       "      <td>SOTON/O.Q. 3101262</td>\n",
       "      <td>7.2500</td>\n",
       "      <td>XXX</td>\n",
       "      <td>S</td>\n",
       "      <td>0</td>\n",
       "      <td>1</td>\n",
       "    </tr>\n",
       "  </tbody>\n",
       "</table>\n",
       "<p>1046 rows × 14 columns</p>\n",
       "</div>"
      ],
      "text/plain": [
       "      index passenger  Pclass  \\\n",
       "0         1  Perished       3   \n",
       "1         2  Survived       1   \n",
       "2         3  Survived       3   \n",
       "3         4  Survived       1   \n",
       "4         5  Perished       3   \n",
       "...     ...       ...     ...   \n",
       "1041   1301  Survived       3   \n",
       "1042   1303  Survived       1   \n",
       "1043   1304  Survived       3   \n",
       "1044   1306  Survived       1   \n",
       "1045   1307  Perished       3   \n",
       "\n",
       "                                                   name     sex       age  \\\n",
       "0                               Braund, Mr. Owen Harris    male   19 - 40   \n",
       "1     Cumings, Mrs. John Bradley (Florence Briggs Th...  female   19 - 40   \n",
       "2                                Heikkinen, Miss. Laina  female   19 - 40   \n",
       "3          Futrelle, Mrs. Jacques Heath (Lily May Peel)  female   19 - 40   \n",
       "4                              Allen, Mr. William Henry    male   19 - 40   \n",
       "...                                                 ...     ...       ...   \n",
       "1041                          Peacock, Miss. Treasteall  female  Under 18   \n",
       "1042    Minahan, Mrs. William Edward (Lillian E Thorpe)  female   19 - 40   \n",
       "1043                     Henriksson, Miss. Jenny Lovisa  female   19 - 40   \n",
       "1044                       Oliva y Ocana, Dona. Fermina  female   19 - 40   \n",
       "1045                       Saether, Mr. Simon Sivertsen    male   19 - 40   \n",
       "\n",
       "      sibsp  parch              ticket      fare cabin emb  Survived  gender  \n",
       "0         1      0           A/5 21171    7.2500   XXX   S         0       1  \n",
       "1         1      0            PC 17599   71.2833   C85   C         1       0  \n",
       "2         0      0    STON/O2. 3101282    7.9250   XXX   S         1       0  \n",
       "3         1      0              113803   53.1000  C123   S         1       0  \n",
       "4         0      0              373450    8.0500   XXX   S         0       1  \n",
       "...     ...    ...                 ...       ...   ...  ..       ...     ...  \n",
       "1041      1      1  SOTON/O.Q. 3101315   13.7750   XXX   S         1       0  \n",
       "1042      1      0               19928   90.0000   C78   Q         1       0  \n",
       "1043      0      0              347086    7.7750   XXX   S         1       0  \n",
       "1044      0      0            PC 17758  108.9000  C105   C         1       0  \n",
       "1045      0      0  SOTON/O.Q. 3101262    7.2500   XXX   S         0       1  \n",
       "\n",
       "[1046 rows x 14 columns]"
      ]
     },
     "execution_count": 92,
     "metadata": {},
     "output_type": "execute_result"
    }
   ],
   "source": [
    "titanic=pd.concat([data,df,df1],axis=1)\n",
    "titanic"
   ]
  },
  {
   "cell_type": "code",
   "execution_count": 93,
   "metadata": {},
   "outputs": [
    {
     "data": {
      "text/html": [
       "<div>\n",
       "<style scoped>\n",
       "    .dataframe tbody tr th:only-of-type {\n",
       "        vertical-align: middle;\n",
       "    }\n",
       "\n",
       "    .dataframe tbody tr th {\n",
       "        vertical-align: top;\n",
       "    }\n",
       "\n",
       "    .dataframe thead th {\n",
       "        text-align: right;\n",
       "    }\n",
       "</style>\n",
       "<table border=\"1\" class=\"dataframe\">\n",
       "  <thead>\n",
       "    <tr style=\"text-align: right;\">\n",
       "      <th></th>\n",
       "      <th>Over40</th>\n",
       "      <th>Under18</th>\n",
       "    </tr>\n",
       "  </thead>\n",
       "  <tbody>\n",
       "    <tr>\n",
       "      <th>0</th>\n",
       "      <td>0</td>\n",
       "      <td>0</td>\n",
       "    </tr>\n",
       "    <tr>\n",
       "      <th>1</th>\n",
       "      <td>0</td>\n",
       "      <td>0</td>\n",
       "    </tr>\n",
       "    <tr>\n",
       "      <th>2</th>\n",
       "      <td>0</td>\n",
       "      <td>0</td>\n",
       "    </tr>\n",
       "    <tr>\n",
       "      <th>3</th>\n",
       "      <td>0</td>\n",
       "      <td>0</td>\n",
       "    </tr>\n",
       "    <tr>\n",
       "      <th>4</th>\n",
       "      <td>0</td>\n",
       "      <td>0</td>\n",
       "    </tr>\n",
       "    <tr>\n",
       "      <th>...</th>\n",
       "      <td>...</td>\n",
       "      <td>...</td>\n",
       "    </tr>\n",
       "    <tr>\n",
       "      <th>1041</th>\n",
       "      <td>0</td>\n",
       "      <td>1</td>\n",
       "    </tr>\n",
       "    <tr>\n",
       "      <th>1042</th>\n",
       "      <td>0</td>\n",
       "      <td>0</td>\n",
       "    </tr>\n",
       "    <tr>\n",
       "      <th>1043</th>\n",
       "      <td>0</td>\n",
       "      <td>0</td>\n",
       "    </tr>\n",
       "    <tr>\n",
       "      <th>1044</th>\n",
       "      <td>0</td>\n",
       "      <td>0</td>\n",
       "    </tr>\n",
       "    <tr>\n",
       "      <th>1045</th>\n",
       "      <td>0</td>\n",
       "      <td>0</td>\n",
       "    </tr>\n",
       "  </tbody>\n",
       "</table>\n",
       "<p>1046 rows × 2 columns</p>\n",
       "</div>"
      ],
      "text/plain": [
       "      Over40  Under18\n",
       "0          0        0\n",
       "1          0        0\n",
       "2          0        0\n",
       "3          0        0\n",
       "4          0        0\n",
       "...      ...      ...\n",
       "1041       0        1\n",
       "1042       0        0\n",
       "1043       0        0\n",
       "1044       0        0\n",
       "1045       0        0\n",
       "\n",
       "[1046 rows x 2 columns]"
      ]
     },
     "execution_count": 93,
     "metadata": {},
     "output_type": "execute_result"
    }
   ],
   "source": [
    "AGE=(pd.get_dummies(titanic['age'],drop_first=True)).rename(columns={'Over 40': 'Over40','Under 18': 'Under18'})\n",
    "AGE"
   ]
  },
  {
   "cell_type": "code",
   "execution_count": 94,
   "metadata": {},
   "outputs": [
    {
     "data": {
      "text/html": [
       "<div>\n",
       "<style scoped>\n",
       "    .dataframe tbody tr th:only-of-type {\n",
       "        vertical-align: middle;\n",
       "    }\n",
       "\n",
       "    .dataframe tbody tr th {\n",
       "        vertical-align: top;\n",
       "    }\n",
       "\n",
       "    .dataframe thead th {\n",
       "        text-align: right;\n",
       "    }\n",
       "</style>\n",
       "<table border=\"1\" class=\"dataframe\">\n",
       "  <thead>\n",
       "    <tr style=\"text-align: right;\">\n",
       "      <th></th>\n",
       "      <th>index</th>\n",
       "      <th>passenger</th>\n",
       "      <th>Pclass</th>\n",
       "      <th>name</th>\n",
       "      <th>sex</th>\n",
       "      <th>age</th>\n",
       "      <th>sibsp</th>\n",
       "      <th>parch</th>\n",
       "      <th>ticket</th>\n",
       "      <th>fare</th>\n",
       "      <th>cabin</th>\n",
       "      <th>emb</th>\n",
       "      <th>Survived</th>\n",
       "      <th>gender</th>\n",
       "      <th>EMB_Q</th>\n",
       "      <th>EMB_S</th>\n",
       "      <th>Over40</th>\n",
       "      <th>Under18</th>\n",
       "    </tr>\n",
       "  </thead>\n",
       "  <tbody>\n",
       "    <tr>\n",
       "      <th>0</th>\n",
       "      <td>1</td>\n",
       "      <td>Perished</td>\n",
       "      <td>3</td>\n",
       "      <td>Braund, Mr. Owen Harris</td>\n",
       "      <td>male</td>\n",
       "      <td>19 - 40</td>\n",
       "      <td>1</td>\n",
       "      <td>0</td>\n",
       "      <td>A/5 21171</td>\n",
       "      <td>7.2500</td>\n",
       "      <td>XXX</td>\n",
       "      <td>S</td>\n",
       "      <td>0</td>\n",
       "      <td>1</td>\n",
       "      <td>0</td>\n",
       "      <td>1</td>\n",
       "      <td>0</td>\n",
       "      <td>0</td>\n",
       "    </tr>\n",
       "    <tr>\n",
       "      <th>1</th>\n",
       "      <td>2</td>\n",
       "      <td>Survived</td>\n",
       "      <td>1</td>\n",
       "      <td>Cumings, Mrs. John Bradley (Florence Briggs Th...</td>\n",
       "      <td>female</td>\n",
       "      <td>19 - 40</td>\n",
       "      <td>1</td>\n",
       "      <td>0</td>\n",
       "      <td>PC 17599</td>\n",
       "      <td>71.2833</td>\n",
       "      <td>C85</td>\n",
       "      <td>C</td>\n",
       "      <td>1</td>\n",
       "      <td>0</td>\n",
       "      <td>0</td>\n",
       "      <td>0</td>\n",
       "      <td>0</td>\n",
       "      <td>0</td>\n",
       "    </tr>\n",
       "    <tr>\n",
       "      <th>2</th>\n",
       "      <td>3</td>\n",
       "      <td>Survived</td>\n",
       "      <td>3</td>\n",
       "      <td>Heikkinen, Miss. Laina</td>\n",
       "      <td>female</td>\n",
       "      <td>19 - 40</td>\n",
       "      <td>0</td>\n",
       "      <td>0</td>\n",
       "      <td>STON/O2. 3101282</td>\n",
       "      <td>7.9250</td>\n",
       "      <td>XXX</td>\n",
       "      <td>S</td>\n",
       "      <td>1</td>\n",
       "      <td>0</td>\n",
       "      <td>0</td>\n",
       "      <td>1</td>\n",
       "      <td>0</td>\n",
       "      <td>0</td>\n",
       "    </tr>\n",
       "    <tr>\n",
       "      <th>3</th>\n",
       "      <td>4</td>\n",
       "      <td>Survived</td>\n",
       "      <td>1</td>\n",
       "      <td>Futrelle, Mrs. Jacques Heath (Lily May Peel)</td>\n",
       "      <td>female</td>\n",
       "      <td>19 - 40</td>\n",
       "      <td>1</td>\n",
       "      <td>0</td>\n",
       "      <td>113803</td>\n",
       "      <td>53.1000</td>\n",
       "      <td>C123</td>\n",
       "      <td>S</td>\n",
       "      <td>1</td>\n",
       "      <td>0</td>\n",
       "      <td>0</td>\n",
       "      <td>1</td>\n",
       "      <td>0</td>\n",
       "      <td>0</td>\n",
       "    </tr>\n",
       "    <tr>\n",
       "      <th>4</th>\n",
       "      <td>5</td>\n",
       "      <td>Perished</td>\n",
       "      <td>3</td>\n",
       "      <td>Allen, Mr. William Henry</td>\n",
       "      <td>male</td>\n",
       "      <td>19 - 40</td>\n",
       "      <td>0</td>\n",
       "      <td>0</td>\n",
       "      <td>373450</td>\n",
       "      <td>8.0500</td>\n",
       "      <td>XXX</td>\n",
       "      <td>S</td>\n",
       "      <td>0</td>\n",
       "      <td>1</td>\n",
       "      <td>0</td>\n",
       "      <td>1</td>\n",
       "      <td>0</td>\n",
       "      <td>0</td>\n",
       "    </tr>\n",
       "    <tr>\n",
       "      <th>...</th>\n",
       "      <td>...</td>\n",
       "      <td>...</td>\n",
       "      <td>...</td>\n",
       "      <td>...</td>\n",
       "      <td>...</td>\n",
       "      <td>...</td>\n",
       "      <td>...</td>\n",
       "      <td>...</td>\n",
       "      <td>...</td>\n",
       "      <td>...</td>\n",
       "      <td>...</td>\n",
       "      <td>...</td>\n",
       "      <td>...</td>\n",
       "      <td>...</td>\n",
       "      <td>...</td>\n",
       "      <td>...</td>\n",
       "      <td>...</td>\n",
       "      <td>...</td>\n",
       "    </tr>\n",
       "    <tr>\n",
       "      <th>1041</th>\n",
       "      <td>1301</td>\n",
       "      <td>Survived</td>\n",
       "      <td>3</td>\n",
       "      <td>Peacock, Miss. Treasteall</td>\n",
       "      <td>female</td>\n",
       "      <td>Under 18</td>\n",
       "      <td>1</td>\n",
       "      <td>1</td>\n",
       "      <td>SOTON/O.Q. 3101315</td>\n",
       "      <td>13.7750</td>\n",
       "      <td>XXX</td>\n",
       "      <td>S</td>\n",
       "      <td>1</td>\n",
       "      <td>0</td>\n",
       "      <td>0</td>\n",
       "      <td>1</td>\n",
       "      <td>0</td>\n",
       "      <td>1</td>\n",
       "    </tr>\n",
       "    <tr>\n",
       "      <th>1042</th>\n",
       "      <td>1303</td>\n",
       "      <td>Survived</td>\n",
       "      <td>1</td>\n",
       "      <td>Minahan, Mrs. William Edward (Lillian E Thorpe)</td>\n",
       "      <td>female</td>\n",
       "      <td>19 - 40</td>\n",
       "      <td>1</td>\n",
       "      <td>0</td>\n",
       "      <td>19928</td>\n",
       "      <td>90.0000</td>\n",
       "      <td>C78</td>\n",
       "      <td>Q</td>\n",
       "      <td>1</td>\n",
       "      <td>0</td>\n",
       "      <td>1</td>\n",
       "      <td>0</td>\n",
       "      <td>0</td>\n",
       "      <td>0</td>\n",
       "    </tr>\n",
       "    <tr>\n",
       "      <th>1043</th>\n",
       "      <td>1304</td>\n",
       "      <td>Survived</td>\n",
       "      <td>3</td>\n",
       "      <td>Henriksson, Miss. Jenny Lovisa</td>\n",
       "      <td>female</td>\n",
       "      <td>19 - 40</td>\n",
       "      <td>0</td>\n",
       "      <td>0</td>\n",
       "      <td>347086</td>\n",
       "      <td>7.7750</td>\n",
       "      <td>XXX</td>\n",
       "      <td>S</td>\n",
       "      <td>1</td>\n",
       "      <td>0</td>\n",
       "      <td>0</td>\n",
       "      <td>1</td>\n",
       "      <td>0</td>\n",
       "      <td>0</td>\n",
       "    </tr>\n",
       "    <tr>\n",
       "      <th>1044</th>\n",
       "      <td>1306</td>\n",
       "      <td>Survived</td>\n",
       "      <td>1</td>\n",
       "      <td>Oliva y Ocana, Dona. Fermina</td>\n",
       "      <td>female</td>\n",
       "      <td>19 - 40</td>\n",
       "      <td>0</td>\n",
       "      <td>0</td>\n",
       "      <td>PC 17758</td>\n",
       "      <td>108.9000</td>\n",
       "      <td>C105</td>\n",
       "      <td>C</td>\n",
       "      <td>1</td>\n",
       "      <td>0</td>\n",
       "      <td>0</td>\n",
       "      <td>0</td>\n",
       "      <td>0</td>\n",
       "      <td>0</td>\n",
       "    </tr>\n",
       "    <tr>\n",
       "      <th>1045</th>\n",
       "      <td>1307</td>\n",
       "      <td>Perished</td>\n",
       "      <td>3</td>\n",
       "      <td>Saether, Mr. Simon Sivertsen</td>\n",
       "      <td>male</td>\n",
       "      <td>19 - 40</td>\n",
       "      <td>0</td>\n",
       "      <td>0</td>\n",
       "      <td>SOTON/O.Q. 3101262</td>\n",
       "      <td>7.2500</td>\n",
       "      <td>XXX</td>\n",
       "      <td>S</td>\n",
       "      <td>0</td>\n",
       "      <td>1</td>\n",
       "      <td>0</td>\n",
       "      <td>1</td>\n",
       "      <td>0</td>\n",
       "      <td>0</td>\n",
       "    </tr>\n",
       "  </tbody>\n",
       "</table>\n",
       "<p>1046 rows × 18 columns</p>\n",
       "</div>"
      ],
      "text/plain": [
       "      index passenger  Pclass  \\\n",
       "0         1  Perished       3   \n",
       "1         2  Survived       1   \n",
       "2         3  Survived       3   \n",
       "3         4  Survived       1   \n",
       "4         5  Perished       3   \n",
       "...     ...       ...     ...   \n",
       "1041   1301  Survived       3   \n",
       "1042   1303  Survived       1   \n",
       "1043   1304  Survived       3   \n",
       "1044   1306  Survived       1   \n",
       "1045   1307  Perished       3   \n",
       "\n",
       "                                                   name     sex       age  \\\n",
       "0                               Braund, Mr. Owen Harris    male   19 - 40   \n",
       "1     Cumings, Mrs. John Bradley (Florence Briggs Th...  female   19 - 40   \n",
       "2                                Heikkinen, Miss. Laina  female   19 - 40   \n",
       "3          Futrelle, Mrs. Jacques Heath (Lily May Peel)  female   19 - 40   \n",
       "4                              Allen, Mr. William Henry    male   19 - 40   \n",
       "...                                                 ...     ...       ...   \n",
       "1041                          Peacock, Miss. Treasteall  female  Under 18   \n",
       "1042    Minahan, Mrs. William Edward (Lillian E Thorpe)  female   19 - 40   \n",
       "1043                     Henriksson, Miss. Jenny Lovisa  female   19 - 40   \n",
       "1044                       Oliva y Ocana, Dona. Fermina  female   19 - 40   \n",
       "1045                       Saether, Mr. Simon Sivertsen    male   19 - 40   \n",
       "\n",
       "      sibsp  parch              ticket      fare cabin emb  Survived  gender  \\\n",
       "0         1      0           A/5 21171    7.2500   XXX   S         0       1   \n",
       "1         1      0            PC 17599   71.2833   C85   C         1       0   \n",
       "2         0      0    STON/O2. 3101282    7.9250   XXX   S         1       0   \n",
       "3         1      0              113803   53.1000  C123   S         1       0   \n",
       "4         0      0              373450    8.0500   XXX   S         0       1   \n",
       "...     ...    ...                 ...       ...   ...  ..       ...     ...   \n",
       "1041      1      1  SOTON/O.Q. 3101315   13.7750   XXX   S         1       0   \n",
       "1042      1      0               19928   90.0000   C78   Q         1       0   \n",
       "1043      0      0              347086    7.7750   XXX   S         1       0   \n",
       "1044      0      0            PC 17758  108.9000  C105   C         1       0   \n",
       "1045      0      0  SOTON/O.Q. 3101262    7.2500   XXX   S         0       1   \n",
       "\n",
       "      EMB_Q  EMB_S  Over40  Under18  \n",
       "0         0      1       0        0  \n",
       "1         0      0       0        0  \n",
       "2         0      1       0        0  \n",
       "3         0      1       0        0  \n",
       "4         0      1       0        0  \n",
       "...     ...    ...     ...      ...  \n",
       "1041      0      1       0        1  \n",
       "1042      1      0       0        0  \n",
       "1043      0      1       0        0  \n",
       "1044      0      0       0        0  \n",
       "1045      0      1       0        0  \n",
       "\n",
       "[1046 rows x 18 columns]"
      ]
     },
     "execution_count": 94,
     "metadata": {},
     "output_type": "execute_result"
    }
   ],
   "source": [
    "#Add Dummy Column with emb_q,emb_s,(c )\n",
    "EMB=(pd.get_dummies(titanic['emb'],drop_first=True)).rename(columns={'Q': 'EMB_Q','S': 'EMB_S'})\n",
    "\n",
    "NewTitanic=pd.concat([titanic,EMB,AGE],axis=1)\n",
    "NewTitanic\n"
   ]
  },
  {
   "cell_type": "code",
   "execution_count": 96,
   "metadata": {},
   "outputs": [
    {
     "data": {
      "text/plain": [
       "<matplotlib.axes._subplots.AxesSubplot at 0x1a19108750>"
      ]
     },
     "execution_count": 96,
     "metadata": {},
     "output_type": "execute_result"
    },
    {
     "data": {
      "image/png": "[encoded data removed]",
      "text/plain": [
       "<Figure size 216x288 with 2 Axes>"
      ]
     },
     "metadata": {
      "needs_background": "light"
     },
     "output_type": "display_data"
    }
   ],
   "source": [
    "# Group the dataset by Pclass and Survived and then unstack them \n",
    "import matplotlib.pyplot as plt\n",
    "\n",
    "group = NewTitanic.groupby(['Pclass', 'Survived']) \n",
    "pclass_survived = group.size().unstack() \n",
    "plt.figure(figsize = (3,4))\n",
    "\n",
    "# Heatmap - Color encoded 2D representation of data. \n",
    "sns.heatmap(pclass_survived, annot = True, fmt =\"d\") "
   ]
  },
  {
   "cell_type": "code",
   "execution_count": 97,
   "metadata": {},
   "outputs": [
    {
     "name": "stdout",
     "output_type": "stream",
     "text": [
      "index:1046\n",
      "passenger:2\n",
      "Pclass:3\n",
      "name:1044\n",
      "sex:2\n",
      "age:3\n",
      "sibsp:7\n",
      "parch:7\n",
      "ticket:732\n",
      "fare:256\n",
      "cabin:175\n",
      "emb:3\n",
      "Survived:2\n",
      "gender:2\n",
      "EMB_Q:2\n",
      "EMB_S:2\n",
      "Over40:2\n",
      "Under18:2\n"
     ]
    }
   ],
   "source": [
    "for  i in NewTitanic.columns:\n",
    "  print(i+ \":\"+ str(NewTitanic[i].nunique()))\n",
    "    #print(NewTitanic[i].nunique())\n",
    "  #print(i +\" \"+ str(len(list(NewTitanic[i].nunique()))))"
   ]
  },
  {
   "cell_type": "code",
   "execution_count": 98,
   "metadata": {},
   "outputs": [
    {
     "data": {
      "text/plain": [
       "1046"
      ]
     },
     "execution_count": 98,
     "metadata": {},
     "output_type": "execute_result"
    }
   ],
   "source": [
    "len(NewTitanic.age)"
   ]
  },
  {
   "cell_type": "code",
   "execution_count": 99,
   "metadata": {},
   "outputs": [
    {
     "data": {
      "text/plain": [
       "0    685\n",
       "1    280\n",
       "2     36\n",
       "3     16\n",
       "4     22\n",
       "5      6\n",
       "8      1\n",
       "Name: sibsp, dtype: int64"
      ]
     },
     "execution_count": 99,
     "metadata": {},
     "output_type": "execute_result"
    }
   ],
   "source": [
    "NewTitanic.sibsp.value_counts(sort=False)"
   ]
  },
  {
   "cell_type": "code",
   "execution_count": 100,
   "metadata": {},
   "outputs": [
    {
     "data": {
      "text/plain": [
       "0.39292543021032506"
      ]
     },
     "execution_count": 100,
     "metadata": {},
     "output_type": "execute_result"
    }
   ],
   "source": [
    "Survived=len(NewTitanic[NewTitanic['Survived']==1])\n",
    "SurvivedProb=Survived/len(NewTitanic)\n",
    "SurvivedProb"
   ]
  },
  {
   "cell_type": "code",
   "execution_count": 101,
   "metadata": {},
   "outputs": [
    {
     "data": {
      "text/plain": [
       "0.607074569789675"
      ]
     },
     "execution_count": 101,
     "metadata": {},
     "output_type": "execute_result"
    }
   ],
   "source": [
    "NSurvived=len(NewTitanic[NewTitanic['Survived']==0])\n",
    "NSurvivedProb=NSurvived/len(NewTitanic)\n",
    "NSurvivedProb"
   ]
  },
  {
   "cell_type": "code",
   "execution_count": 102,
   "metadata": {},
   "outputs": [],
   "source": [
    "# calculate the column wise entropy for the split in the dataset\n",
    "def colentropy(list):\n",
    "    if(sum(list)<=1.01):\n",
    "        if \"NaN\" in list:\n",
    "            return 0\n",
    "        else:\n",
    "            return sum([-i*np.log2(i) for i in list])\n",
    "    else:\n",
    "        print(\"Sum of Probabilties in Column is not 1 %5.4f \" % sum(list))\n",
    "        return 0"
   ]
  },
  {
   "cell_type": "code",
   "execution_count": 103,
   "metadata": {},
   "outputs": [
    {
     "name": "stdout",
     "output_type": "stream",
     "text": [
      "entropy: 0.9666615 bits\n"
     ]
    }
   ],
   "source": [
    "entropy = -(SurvivedProb * math.log2(SurvivedProb) + NSurvivedProb * math.log2(NSurvivedProb))\n",
    "# print the result\n",
    "print('entropy: %.7f bits' % entropy)"
   ]
  },
  {
   "cell_type": "code",
   "execution_count": 104,
   "metadata": {},
   "outputs": [
    {
     "data": {
      "text/plain": [
       "0    635\n",
       "1    411\n",
       "Name: Survived, dtype: int64"
      ]
     },
     "execution_count": 104,
     "metadata": {},
     "output_type": "execute_result"
    }
   ],
   "source": [
    "NewTitanic.Survived.value_counts()"
   ]
  },
  {
   "cell_type": "code",
   "execution_count": 105,
   "metadata": {},
   "outputs": [
    {
     "data": {
      "text/plain": [
       "0.9666615050356869"
      ]
     },
     "execution_count": 105,
     "metadata": {},
     "output_type": "execute_result"
    }
   ],
   "source": [
    "colentropy(NewTitanic.Survived.value_counts()/len(NewTitanic))"
   ]
  },
  {
   "cell_type": "code",
   "execution_count": 106,
   "metadata": {},
   "outputs": [
    {
     "data": {
      "text/plain": [
       "0.9513887558584189"
      ]
     },
     "execution_count": 106,
     "metadata": {},
     "output_type": "execute_result"
    }
   ],
   "source": [
    "colentropy(NewTitanic.gender.value_counts()/len(NewTitanic))"
   ]
  },
  {
   "cell_type": "code",
   "execution_count": 64,
   "metadata": {},
   "outputs": [
    {
     "data": {
      "text/plain": [
       "1.3714677930465624"
      ]
     },
     "execution_count": 64,
     "metadata": {},
     "output_type": "execute_result"
    }
   ],
   "source": [
    "colentropy(NewTitanic.age.value_counts()/len(NewTitanic))"
   ]
  },
  {
   "cell_type": "code",
   "execution_count": 107,
   "metadata": {},
   "outputs": [
    {
     "data": {
      "text/plain": [
       "1.5190861511275637"
      ]
     },
     "execution_count": 107,
     "metadata": {},
     "output_type": "execute_result"
    }
   ],
   "source": [
    "colentropy(NewTitanic.Pclass.value_counts()/len(NewTitanic))"
   ]
  },
  {
   "cell_type": "code",
   "execution_count": 65,
   "metadata": {},
   "outputs": [
    {
     "data": {
      "text/plain": [
       "1.3379266608772802"
      ]
     },
     "execution_count": 65,
     "metadata": {},
     "output_type": "execute_result"
    }
   ],
   "source": [
    "colentropy(NewTitanic.sibsp.value_counts()/len(NewTitanic))"
   ]
  },
  {
   "cell_type": "code",
   "execution_count": 66,
   "metadata": {},
   "outputs": [
    {
     "data": {
      "text/plain": [
       "1.2103319001984318"
      ]
     },
     "execution_count": 66,
     "metadata": {},
     "output_type": "execute_result"
    }
   ],
   "source": [
    "colentropy(NewTitanic.parch.value_counts()/len(NewTitanic))"
   ]
  },
  {
   "cell_type": "code",
   "execution_count": 67,
   "metadata": {},
   "outputs": [
    {
     "data": {
      "text/plain": [
       "0.27698192226171686"
      ]
     },
     "execution_count": 67,
     "metadata": {},
     "output_type": "execute_result"
    }
   ],
   "source": [
    "colentropy(NewTitanic.EMB_Q.value_counts()/len(NewTitanic))"
   ]
  },
  {
   "cell_type": "code",
   "execution_count": 140,
   "metadata": {},
   "outputs": [
    {
     "data": {
      "text/plain": [
       "0.8120348760278828"
      ]
     },
     "execution_count": 140,
     "metadata": {},
     "output_type": "execute_result"
    }
   ],
   "source": [
    "colentropy(NewTitanic.EMB_S.value_counts()/len(NewTitanic))"
   ]
  },
  {
   "cell_type": "code",
   "execution_count": 141,
   "metadata": {},
   "outputs": [
    {
     "data": {
      "text/plain": [
       "0.9881772092465039"
      ]
     },
     "execution_count": 141,
     "metadata": {},
     "output_type": "execute_result"
    }
   ],
   "source": [
    "colentropy(NewTitanic.emb.value_counts()/len(NewTitanic))"
   ]
  },
  {
   "cell_type": "code",
   "execution_count": 108,
   "metadata": {},
   "outputs": [
    {
     "data": {
      "text/html": [
       "<div>\n",
       "<style scoped>\n",
       "    .dataframe tbody tr th:only-of-type {\n",
       "        vertical-align: middle;\n",
       "    }\n",
       "\n",
       "    .dataframe tbody tr th {\n",
       "        vertical-align: top;\n",
       "    }\n",
       "\n",
       "    .dataframe thead th {\n",
       "        text-align: right;\n",
       "    }\n",
       "</style>\n",
       "<table border=\"1\" class=\"dataframe\">\n",
       "  <thead>\n",
       "    <tr style=\"text-align: right;\">\n",
       "      <th>Survived</th>\n",
       "      <th>0</th>\n",
       "      <th>1</th>\n",
       "    </tr>\n",
       "    <tr>\n",
       "      <th>gender</th>\n",
       "      <th></th>\n",
       "      <th></th>\n",
       "    </tr>\n",
       "  </thead>\n",
       "  <tbody>\n",
       "    <tr>\n",
       "      <th>0</th>\n",
       "      <td>70</td>\n",
       "      <td>318</td>\n",
       "    </tr>\n",
       "    <tr>\n",
       "      <th>1</th>\n",
       "      <td>565</td>\n",
       "      <td>93</td>\n",
       "    </tr>\n",
       "  </tbody>\n",
       "</table>\n",
       "</div>"
      ],
      "text/plain": [
       "Survived    0    1\n",
       "gender            \n",
       "0          70  318\n",
       "1         565   93"
      ]
     },
     "execution_count": 108,
     "metadata": {},
     "output_type": "execute_result"
    }
   ],
   "source": [
    "group = NewTitanic.groupby(['gender', 'Survived']) \n",
    "Gender_survived = group.size().unstack() \n",
    "Gender_survived"
   ]
  },
  {
   "cell_type": "code",
   "execution_count": 109,
   "metadata": {},
   "outputs": [
    {
     "data": {
      "text/plain": [
       "0    388\n",
       "1    658\n",
       "Name: gender, dtype: int64"
      ]
     },
     "execution_count": 109,
     "metadata": {},
     "output_type": "execute_result"
    }
   ],
   "source": [
    "NewTitanic.gender.value_counts(sort=False)"
   ]
  },
  {
   "cell_type": "code",
   "execution_count": 110,
   "metadata": {},
   "outputs": [
    {
     "data": {
      "text/plain": [
       "0    0.370937\n",
       "1    0.629063\n",
       "Name: gender, dtype: float64"
      ]
     },
     "execution_count": 110,
     "metadata": {},
     "output_type": "execute_result"
    }
   ],
   "source": [
    "NewTitanic.gender.value_counts(sort=False)/len(NewTitanic)"
   ]
  },
  {
   "cell_type": "code",
   "execution_count": 111,
   "metadata": {},
   "outputs": [
    {
     "name": "stdout",
     "output_type": "stream",
     "text": [
      "0.5877306174905793 0.6809783293866828\n"
     ]
    }
   ],
   "source": [
    "group = NewTitanic.groupby(['sex', 'Survived']) \n",
    "Gender_survived = group.size().unstack() \n",
    "#Gender Column Entropy\n",
    "FemaleEntropy=colentropy(Gender_survived.iloc[0]/NewTitanic.gender.value_counts()[0])\n",
    "MaleEntropy=colentropy(Gender_survived.iloc[1]/NewTitanic.gender.value_counts()[1])\n",
    "print(str(MaleEntropy)+\" \" +str(FemaleEntropy))\n"
   ]
  },
  {
   "cell_type": "code",
   "execution_count": 112,
   "metadata": {},
   "outputs": [
    {
     "name": "stdout",
     "output_type": "stream",
     "text": [
      "0.9666615050356869\n"
     ]
    }
   ],
   "source": [
    "HS=colentropy(NewTitanic.Survived.value_counts()/len(NewTitanic))\n",
    "print(HS)"
   ]
  },
  {
   "cell_type": "code",
   "execution_count": 113,
   "metadata": {},
   "outputs": [
    {
     "data": {
      "text/plain": [
       "0.34434187013049183"
      ]
     },
     "execution_count": 113,
     "metadata": {},
     "output_type": "execute_result"
    }
   ],
   "source": [
    "Val=NewTitanic.gender.value_counts()/sum(Gender_survived.sum(axis=1))\n",
    "HS-Val[0]*FemaleEntropy-Val[1]*MaleEntropy"
   ]
  },
  {
   "cell_type": "code",
   "execution_count": 114,
   "metadata": {},
   "outputs": [
    {
     "name": "stdout",
     "output_type": "stream",
     "text": [
      "Survived    0    1\n",
      "Pclass            \n",
      "1         114  170\n",
      "2         149  112\n",
      "3         372  129\n"
     ]
    }
   ],
   "source": [
    "Classgroup = NewTitanic.groupby(['Pclass', 'Survived']) \n",
    "Class_survived = Classgroup.size().unstack() \n",
    "print(Class_survived)"
   ]
  },
  {
   "cell_type": "code",
   "execution_count": 115,
   "metadata": {},
   "outputs": [
    {
     "data": {
      "text/plain": [
       "Survived\n",
       "0    0.742515\n",
       "1    0.257485\n",
       "Name: 3, dtype: float64"
      ]
     },
     "execution_count": 115,
     "metadata": {},
     "output_type": "execute_result"
    }
   ],
   "source": [
    "Class_survived.iloc[2]/NewTitanic.Pclass.value_counts(sort=False).iloc[2]"
   ]
  },
  {
   "cell_type": "code",
   "execution_count": 116,
   "metadata": {},
   "outputs": [
    {
     "data": {
      "text/plain": [
       "501"
      ]
     },
     "execution_count": 116,
     "metadata": {},
     "output_type": "execute_result"
    }
   ],
   "source": [
    "NewTitanic.Pclass.value_counts(sort=False).iloc[2]"
   ]
  },
  {
   "cell_type": "code",
   "execution_count": 117,
   "metadata": {},
   "outputs": [
    {
     "data": {
      "text/html": [
       "<div>\n",
       "<style scoped>\n",
       "    .dataframe tbody tr th:only-of-type {\n",
       "        vertical-align: middle;\n",
       "    }\n",
       "\n",
       "    .dataframe tbody tr th {\n",
       "        vertical-align: top;\n",
       "    }\n",
       "\n",
       "    .dataframe thead th {\n",
       "        text-align: right;\n",
       "    }\n",
       "</style>\n",
       "<table border=\"1\" class=\"dataframe\">\n",
       "  <thead>\n",
       "    <tr style=\"text-align: right;\">\n",
       "      <th>Survived</th>\n",
       "      <th>0</th>\n",
       "      <th>1</th>\n",
       "    </tr>\n",
       "    <tr>\n",
       "      <th>Pclass</th>\n",
       "      <th></th>\n",
       "      <th></th>\n",
       "    </tr>\n",
       "  </thead>\n",
       "  <tbody>\n",
       "    <tr>\n",
       "      <th>1</th>\n",
       "      <td>0.401408</td>\n",
       "      <td>0.598592</td>\n",
       "    </tr>\n",
       "    <tr>\n",
       "      <th>2</th>\n",
       "      <td>0.570881</td>\n",
       "      <td>0.429119</td>\n",
       "    </tr>\n",
       "    <tr>\n",
       "      <th>3</th>\n",
       "      <td>0.742515</td>\n",
       "      <td>0.257485</td>\n",
       "    </tr>\n",
       "  </tbody>\n",
       "</table>\n",
       "</div>"
      ],
      "text/plain": [
       "Survived         0         1\n",
       "Pclass                      \n",
       "1         0.401408  0.598592\n",
       "2         0.570881  0.429119\n",
       "3         0.742515  0.257485"
      ]
     },
     "execution_count": 117,
     "metadata": {},
     "output_type": "execute_result"
    }
   ],
   "source": [
    "Class_survived.div(NewTitanic.Pclass.value_counts(sort=False),axis=0)"
   ]
  },
  {
   "cell_type": "code",
   "execution_count": null,
   "metadata": {},
   "outputs": [],
   "source": []
  },
  {
   "cell_type": "code",
   "execution_count": 118,
   "metadata": {},
   "outputs": [
    {
     "name": "stdout",
     "output_type": "stream",
     "text": [
      "C1:0.9717685252857038C2:0.9854544225495253C3:0.8229274844491257\n"
     ]
    }
   ],
   "source": [
    "ClassProb=Class_survived.div(NewTitanic.Pclass.value_counts(sort=False),axis=0)\n",
    "C1Entropy=colentropy(ClassProb.iloc[0])\n",
    "C2Entropy=colentropy(ClassProb.iloc[1])\n",
    "C3Entropy=colentropy(ClassProb.iloc[2])\n",
    "print(\"C1:\"+str(C1Entropy)+\"C2:\"+str(C2Entropy)+\"C3:\"+str(C3Entropy))"
   ]
  },
  {
   "cell_type": "code",
   "execution_count": 119,
   "metadata": {},
   "outputs": [
    {
     "data": {
      "text/plain": [
       "1    284\n",
       "2    261\n",
       "3    501\n",
       "Name: Pclass, dtype: int64"
      ]
     },
     "execution_count": 119,
     "metadata": {},
     "output_type": "execute_result"
    }
   ],
   "source": [
    "NewTitanic.Pclass.value_counts(sort=False)"
   ]
  },
  {
   "cell_type": "code",
   "execution_count": 120,
   "metadata": {},
   "outputs": [],
   "source": [
    "Weight=NewTitanic.Pclass.value_counts(sort=False)/len(NewTitanic)"
   ]
  },
  {
   "cell_type": "code",
   "execution_count": 121,
   "metadata": {},
   "outputs": [
    {
     "data": {
      "text/plain": [
       "0.06276806796534473"
      ]
     },
     "execution_count": 121,
     "metadata": {},
     "output_type": "execute_result"
    }
   ],
   "source": [
    "HS-(Weight[1]*C1Entropy+Weight[2]*C2Entropy+Weight[3]*C3Entropy)"
   ]
  },
  {
   "cell_type": "code",
   "execution_count": 122,
   "metadata": {},
   "outputs": [
    {
     "name": "stdout",
     "output_type": "stream",
     "text": [
      "Survived      0      1\n",
      "sibsp                 \n",
      "0         442.0  243.0\n",
      "1         137.0  143.0\n",
      "2          20.0   16.0\n",
      "3          11.0    5.0\n",
      "4          18.0    4.0\n",
      "5           6.0    NaN\n",
      "8           1.0    NaN\n"
     ]
    }
   ],
   "source": [
    "SIBgroup = NewTitanic.groupby(['sibsp', 'Survived'])\n",
    "SIB_survived = SIBgroup.size().unstack()\n",
    "print(SIB_survived)"
   ]
  },
  {
   "cell_type": "code",
   "execution_count": null,
   "metadata": {},
   "outputs": [],
   "source": []
  },
  {
   "cell_type": "code",
   "execution_count": 124,
   "metadata": {},
   "outputs": [
    {
     "data": {
      "text/html": [
       "<div>\n",
       "<style scoped>\n",
       "    .dataframe tbody tr th:only-of-type {\n",
       "        vertical-align: middle;\n",
       "    }\n",
       "\n",
       "    .dataframe tbody tr th {\n",
       "        vertical-align: top;\n",
       "    }\n",
       "\n",
       "    .dataframe thead th {\n",
       "        text-align: right;\n",
       "    }\n",
       "</style>\n",
       "<table border=\"1\" class=\"dataframe\">\n",
       "  <thead>\n",
       "    <tr style=\"text-align: right;\">\n",
       "      <th>Survived</th>\n",
       "      <th>0</th>\n",
       "      <th>1</th>\n",
       "    </tr>\n",
       "    <tr>\n",
       "      <th>sibsp</th>\n",
       "      <th></th>\n",
       "      <th></th>\n",
       "    </tr>\n",
       "  </thead>\n",
       "  <tbody>\n",
       "    <tr>\n",
       "      <th>0</th>\n",
       "      <td>0.645255</td>\n",
       "      <td>0.354745</td>\n",
       "    </tr>\n",
       "    <tr>\n",
       "      <th>1</th>\n",
       "      <td>0.489286</td>\n",
       "      <td>0.510714</td>\n",
       "    </tr>\n",
       "    <tr>\n",
       "      <th>2</th>\n",
       "      <td>0.555556</td>\n",
       "      <td>0.444444</td>\n",
       "    </tr>\n",
       "    <tr>\n",
       "      <th>3</th>\n",
       "      <td>0.687500</td>\n",
       "      <td>0.312500</td>\n",
       "    </tr>\n",
       "    <tr>\n",
       "      <th>4</th>\n",
       "      <td>0.818182</td>\n",
       "      <td>0.181818</td>\n",
       "    </tr>\n",
       "    <tr>\n",
       "      <th>5</th>\n",
       "      <td>1.000000</td>\n",
       "      <td>NaN</td>\n",
       "    </tr>\n",
       "    <tr>\n",
       "      <th>8</th>\n",
       "      <td>1.000000</td>\n",
       "      <td>NaN</td>\n",
       "    </tr>\n",
       "  </tbody>\n",
       "</table>\n",
       "</div>"
      ],
      "text/plain": [
       "Survived         0         1\n",
       "sibsp                       \n",
       "0         0.645255  0.354745\n",
       "1         0.489286  0.510714\n",
       "2         0.555556  0.444444\n",
       "3         0.687500  0.312500\n",
       "4         0.818182  0.181818\n",
       "5         1.000000       NaN\n",
       "8         1.000000       NaN"
      ]
     },
     "execution_count": 124,
     "metadata": {},
     "output_type": "execute_result"
    }
   ],
   "source": [
    "SIB_survived.div(NewTitanic.sibsp.value_counts(sort=False),axis=0)\n"
   ]
  },
  {
   "cell_type": "code",
   "execution_count": 125,
   "metadata": {},
   "outputs": [
    {
     "name": "stdout",
     "output_type": "stream",
     "text": [
      "Survived\n",
      "0    0.645255\n",
      "1    0.354745\n",
      "Name: 0, dtype: float64\n",
      "Sum of Probabilties in Column is not 1   nan \n",
      "Sum of Probabilties in Column is not 1   nan \n",
      "[0.9382340908008562, 0.9996687436417457, 0.9910760598382222, 0.8960382325345574, 0.6840384356390417, 0, 0]\n"
     ]
    }
   ],
   "source": [
    "SIBProb=SIB_survived.div(NewTitanic.sibsp.value_counts(sort=False),axis=0)\n",
    "print(SIBProb.iloc[0])\n",
    "SIBEntropy=[\n",
    "    colentropy(SIBProb.iloc[0]), colentropy(SIBProb.iloc[1]),   colentropy(SIBProb.iloc[2]),colentropy(SIBProb.iloc[3]),colentropy(SIBProb.iloc[4]),colentropy(SIBProb.iloc[5]),colentropy(SIBProb.iloc[6])]\n",
    "print(SIBEntropy)"
   ]
  },
  {
   "cell_type": "code",
   "execution_count": 126,
   "metadata": {},
   "outputs": [
    {
     "data": {
      "text/plain": [
       "[0.9382340908008562,\n",
       " 0.9996687436417457,\n",
       " 0.9910760598382222,\n",
       " 0.8960382325345574,\n",
       " 0.6840384356390417,\n",
       " 0,\n",
       " 0]"
      ]
     },
     "execution_count": 126,
     "metadata": {},
     "output_type": "execute_result"
    }
   ],
   "source": [
    "SIBEntropy"
   ]
  },
  {
   "cell_type": "code",
   "execution_count": 127,
   "metadata": {},
   "outputs": [
    {
     "name": "stdout",
     "output_type": "stream",
     "text": [
      "0    0.654876\n",
      "1    0.267686\n",
      "2    0.034417\n",
      "3    0.015296\n",
      "4    0.021033\n",
      "5    0.005736\n",
      "8    0.000956\n",
      "Name: sibsp, dtype: float64\n"
     ]
    }
   ],
   "source": [
    "SIBWeight=NewTitanic.sibsp.value_counts(sort=False)/len(NewTitanic)\n",
    "print(SIBWeight)"
   ]
  },
  {
   "cell_type": "code",
   "execution_count": 128,
   "metadata": {},
   "outputs": [
    {
     "data": {
      "text/plain": [
       "0.022434166721095106"
      ]
     },
     "execution_count": 128,
     "metadata": {},
     "output_type": "execute_result"
    }
   ],
   "source": [
    "HS-sum(SIBWeight*SIBEntropy)"
   ]
  },
  {
   "cell_type": "code",
   "execution_count": 129,
   "metadata": {},
   "outputs": [
    {
     "name": "stdout",
     "output_type": "stream",
     "text": [
      "Survived    0    1\n",
      "emb               \n",
      "C          96  116\n",
      "Q          30   20\n",
      "S         509  275\n"
     ]
    }
   ],
   "source": [
    "EMBgroup = NewTitanic.groupby(['emb', 'Survived'])\n",
    "EMB_survived = EMBgroup.size().unstack()\n",
    "print(EMB_survived)"
   ]
  },
  {
   "cell_type": "code",
   "execution_count": 130,
   "metadata": {},
   "outputs": [
    {
     "data": {
      "text/html": [
       "<div>\n",
       "<style scoped>\n",
       "    .dataframe tbody tr th:only-of-type {\n",
       "        vertical-align: middle;\n",
       "    }\n",
       "\n",
       "    .dataframe tbody tr th {\n",
       "        vertical-align: top;\n",
       "    }\n",
       "\n",
       "    .dataframe thead th {\n",
       "        text-align: right;\n",
       "    }\n",
       "</style>\n",
       "<table border=\"1\" class=\"dataframe\">\n",
       "  <thead>\n",
       "    <tr style=\"text-align: right;\">\n",
       "      <th>Survived</th>\n",
       "      <th>0</th>\n",
       "      <th>1</th>\n",
       "    </tr>\n",
       "  </thead>\n",
       "  <tbody>\n",
       "    <tr>\n",
       "      <th>C</th>\n",
       "      <td>0.452830</td>\n",
       "      <td>0.547170</td>\n",
       "    </tr>\n",
       "    <tr>\n",
       "      <th>Q</th>\n",
       "      <td>0.600000</td>\n",
       "      <td>0.400000</td>\n",
       "    </tr>\n",
       "    <tr>\n",
       "      <th>S</th>\n",
       "      <td>0.649235</td>\n",
       "      <td>0.350765</td>\n",
       "    </tr>\n",
       "  </tbody>\n",
       "</table>\n",
       "</div>"
      ],
      "text/plain": [
       "Survived         0         1\n",
       "C         0.452830  0.547170\n",
       "Q         0.600000  0.400000\n",
       "S         0.649235  0.350765"
      ]
     },
     "execution_count": 130,
     "metadata": {},
     "output_type": "execute_result"
    }
   ],
   "source": [
    "EMB_survived.div(NewTitanic.emb.value_counts(sort=False),axis=0)"
   ]
  },
  {
   "cell_type": "code",
   "execution_count": 131,
   "metadata": {},
   "outputs": [
    {
     "name": "stdout",
     "output_type": "stream",
     "text": [
      "Survived\n",
      "0    0.45283\n",
      "1    0.54717\n",
      "Name: C, dtype: float64\n",
      "[0.9935704757706079, 0.9709505944546686, 0.9347496821689902]\n"
     ]
    }
   ],
   "source": [
    "EMBProb=EMB_survived.div(NewTitanic.emb.value_counts(sort=False),axis=0)\n",
    "print(EMBProb.iloc[0])\n",
    "EMBEntropy=[\n",
    "    colentropy(EMBProb.iloc[0]), colentropy(EMBProb.iloc[1]),   colentropy(EMBProb.iloc[2])]\n",
    "print(EMBEntropy)"
   ]
  },
  {
   "cell_type": "code",
   "execution_count": 132,
   "metadata": {},
   "outputs": [
    {
     "name": "stdout",
     "output_type": "stream",
     "text": [
      "C    0.202677\n",
      "S    0.749522\n",
      "Q    0.047801\n",
      "Name: emb, dtype: float64\n"
     ]
    }
   ],
   "source": [
    "EMBWeight=NewTitanic.emb.value_counts(sort=False)/len(NewTitanic)\n",
    "print(EMBWeight)"
   ]
  },
  {
   "cell_type": "code",
   "execution_count": 133,
   "metadata": {},
   "outputs": [
    {
     "data": {
      "text/plain": [
       "-0.007143170895745787"
      ]
     },
     "execution_count": 133,
     "metadata": {},
     "output_type": "execute_result"
    }
   ],
   "source": [
    "HS-sum(EMBWeight*EMBEntropy)"
   ]
  },
  {
   "cell_type": "code",
   "execution_count": 136,
   "metadata": {},
   "outputs": [
    {
     "name": "stdout",
     "output_type": "stream",
     "text": [
      "Survived      0      1\n",
      "parch                 \n",
      "0         504.0  264.0\n",
      "1          73.0   87.0\n",
      "2          44.0   53.0\n",
      "3           3.0    5.0\n",
      "4           4.0    1.0\n",
      "5           5.0    1.0\n",
      "6           2.0    NaN\n",
      "0    768\n",
      "1    160\n",
      "2     97\n",
      "3      8\n",
      "4      5\n",
      "5      6\n",
      "6      2\n",
      "Name: parch, dtype: int64\n",
      "Sum of Probabilties in Column is not 1   nan \n",
      "[0.9283620723948676, 0.9944701140306086, 0.9937811379408326, 0.954434002924965, 0.7219280948873623, 0.6500224216483541, 0]\n",
      "0    0.734226\n",
      "1    0.152964\n",
      "2    0.092734\n",
      "3    0.007648\n",
      "4    0.004780\n",
      "5    0.005736\n",
      "6    0.001912\n",
      "Name: parch, dtype: float64\n"
     ]
    },
    {
     "data": {
      "text/plain": [
       "0.026279758140712595"
      ]
     },
     "execution_count": 136,
     "metadata": {},
     "output_type": "execute_result"
    }
   ],
   "source": [
    "PRCgroup = NewTitanic.groupby(['parch', 'Survived'])\n",
    "PRC_survived = PRCgroup.size().unstack()\n",
    "print(PRC_survived)\n",
    "PRCProb=PRC_survived.div(NewTitanic.parch.value_counts(sort=False),axis=0)\n",
    "print(NewTitanic.parch.value_counts(sort=False))\n",
    "PRCEntropy=[colentropy(PRCProb.iloc[0]), colentropy(PRCProb.iloc[1]),colentropy(PRCProb.iloc[2]),colentropy(PRCProb.iloc[3]),colentropy(PRCProb.iloc[4]),colentropy(PRCProb.iloc[5]),colentropy(PRCProb.iloc[6])]\n",
    "print(PRCEntropy)\n",
    "PRCWeight=NewTitanic.parch.value_counts(sort=False)/len(NewTitanic)\n",
    "print(PRCWeight)\n",
    "HS-sum(PRCWeight*PRCEntropy)"
   ]
  },
  {
   "cell_type": "code",
   "execution_count": 138,
   "metadata": {},
   "outputs": [
    {
     "name": "stdout",
     "output_type": "stream",
     "text": [
      "Survived    0    1\n",
      "age               \n",
      "19 - 40   391  235\n",
      "Over 40   142   85\n",
      "Under 18  102   91\n",
      "Under 18    193\n",
      "19 - 40     626\n",
      "Over 40     227\n",
      "Name: age, dtype: int64\n",
      "[0.9547278274598554, 0.9540272514258512, 0.9976554976868683]\n",
      "Under 18    0.184512\n",
      "19 - 40     0.598470\n",
      "Over 40     0.217017\n",
      "Name: age, dtype: float64\n"
     ]
    },
    {
     "data": {
      "text/plain": [
       "0.003036908413073136"
      ]
     },
     "execution_count": 138,
     "metadata": {},
     "output_type": "execute_result"
    }
   ],
   "source": [
    "AGERgroup = NewTitanic.groupby(['age', 'Survived'])\n",
    "AGER_survived = AGERgroup.size().unstack()\n",
    "print(AGER_survived)\n",
    "AGERProb=AGER_survived.div(NewTitanic.age.value_counts(sort=False),axis=0)\n",
    "print(NewTitanic.age.value_counts(sort=False))\n",
    "AGEREntropy=[colentropy(AGERProb.iloc[0]), colentropy(AGERProb.iloc[1]),colentropy(AGERProb.iloc[2])]\n",
    "print(AGEREntropy)\n",
    "AGERWeight=NewTitanic.age.value_counts(sort=False)/len(NewTitanic)\n",
    "print(AGERWeight)\n",
    "HS-sum(AGERWeight*AGEREntropy)"
   ]
  },
  {
   "cell_type": "code",
   "execution_count": null,
   "metadata": {},
   "outputs": [],
   "source": []
  }
 ],
 "metadata": {
  "kernelspec": {
   "display_name": "Python 3",
   "language": "python",
   "name": "python3"
  },
  "language_info": {
   "codemirror_mode": {
    "name": "ipython",
    "version": 3
   },
   "file_extension": ".py",
   "mimetype": "text/x-python",
   "name": "python",
   "nbconvert_exporter": "python",
   "pygments_lexer": "ipython3",
   "version": "3.7.6"
  }
 },
 "nbformat": 4,
 "nbformat_minor": 4
}
